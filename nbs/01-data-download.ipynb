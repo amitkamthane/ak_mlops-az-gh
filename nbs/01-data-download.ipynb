{
 "cells": [
  {
   "cell_type": "code",
   "execution_count": 1,
   "metadata": {},
   "outputs": [],
   "source": [
    "#  start = str(datetime.today().date()-timedelta(days=start))\n",
    "#         end = str(datetime.today().date()-timedelta(days=end))\n",
    "\n",
    "#         tickerData=yf.download(ticker,start=start, end=end, period='1d')\n",
    "#         tickerData['Date']=[str(x)[:10] for x in tickerData.index]\n",
    "\n",
    "#         if tickerData.shape[0]==0:\n",
    "#             raise ValueError(\"No data found via YFinance.\")\n",
    "\n",
    "#         logging.info(f\"{os.getcwd()}\")\n",
    "#         logging.info(f\"Length of ticker data: {tickerData.shape[0]}\")\n",
    "#         if tickerData.shape[0]!=0:\n",
    "\n",
    "#             tickerData = tickerData['Close']\n",
    "\n",
    "#             logging.info(f\"Length of ticker data: {len(tickerData.index)}\")\n",
    "\n",
    "#                 # Only persisting the latest in the repository\n",
    "#             path = f'../data/{ticker}.csv'\n",
    "#             tickerData.to_csv(path,index=True)\n",
    "\n",
    "# ticker: WIPRO.NS\n",
    "#   start: 366\n",
    "#   end: 1"
   ]
  },
  {
   "cell_type": "code",
   "execution_count": 2,
   "metadata": {},
   "outputs": [],
   "source": [
    "import yfinance as yf\n",
    "from datetime import datetime, timedelta\n",
    "import numpy as np\n",
    "import re"
   ]
  },
  {
   "cell_type": "code",
   "execution_count": 3,
   "metadata": {},
   "outputs": [],
   "source": [
    "TICKER = \"WIPRO.NS\"\n",
    "START = 366\n",
    "END = 1"
   ]
  },
  {
   "cell_type": "code",
   "execution_count": 4,
   "metadata": {},
   "outputs": [
    {
     "data": {
      "text/plain": [
       "('2022-05-02', '2023-05-02')"
      ]
     },
     "execution_count": 4,
     "metadata": {},
     "output_type": "execute_result"
    }
   ],
   "source": [
    "start = str(datetime.today().date()-timedelta(days=START))\n",
    "end = str(datetime.today().date()-timedelta(days=END))\n",
    "\n",
    "start, end"
   ]
  },
  {
   "cell_type": "code",
   "execution_count": 5,
   "metadata": {},
   "outputs": [
    {
     "name": "stdout",
     "output_type": "stream",
     "text": [
      "[*********************100%***********************]  1 of 1 completed\n"
     ]
    },
    {
     "data": {
      "text/plain": [
       "pandas.core.frame.DataFrame"
      ]
     },
     "execution_count": 5,
     "metadata": {},
     "output_type": "execute_result"
    }
   ],
   "source": [
    "tickerData=yf.download(TICKER, start=start, end=end, period='1d')\n",
    "type(tickerData)"
   ]
  },
  {
   "cell_type": "code",
   "execution_count": 6,
   "metadata": {},
   "outputs": [
    {
     "data": {
      "text/plain": [
       "(247, 6)"
      ]
     },
     "execution_count": 6,
     "metadata": {},
     "output_type": "execute_result"
    }
   ],
   "source": [
    "tickerData.shape"
   ]
  },
  {
   "cell_type": "code",
   "execution_count": 7,
   "metadata": {},
   "outputs": [
    {
     "data": {
      "text/html": [
       "<div>\n",
       "<style scoped>\n",
       "    .dataframe tbody tr th:only-of-type {\n",
       "        vertical-align: middle;\n",
       "    }\n",
       "\n",
       "    .dataframe tbody tr th {\n",
       "        vertical-align: top;\n",
       "    }\n",
       "\n",
       "    .dataframe thead th {\n",
       "        text-align: right;\n",
       "    }\n",
       "</style>\n",
       "<table border=\"1\" class=\"dataframe\">\n",
       "  <thead>\n",
       "    <tr style=\"text-align: right;\">\n",
       "      <th></th>\n",
       "      <th>Open</th>\n",
       "      <th>High</th>\n",
       "      <th>Low</th>\n",
       "      <th>Close</th>\n",
       "      <th>Adj Close</th>\n",
       "      <th>Volume</th>\n",
       "    </tr>\n",
       "    <tr>\n",
       "      <th>Date</th>\n",
       "      <th></th>\n",
       "      <th></th>\n",
       "      <th></th>\n",
       "      <th></th>\n",
       "      <th></th>\n",
       "      <th></th>\n",
       "    </tr>\n",
       "  </thead>\n",
       "  <tbody>\n",
       "    <tr>\n",
       "      <th>2022-05-02</th>\n",
       "      <td>515.5</td>\n",
       "      <td>519.000000</td>\n",
       "      <td>492.600006</td>\n",
       "      <td>495.000000</td>\n",
       "      <td>493.783783</td>\n",
       "      <td>21911427</td>\n",
       "    </tr>\n",
       "    <tr>\n",
       "      <th>2022-05-04</th>\n",
       "      <td>500.0</td>\n",
       "      <td>503.850006</td>\n",
       "      <td>489.250000</td>\n",
       "      <td>491.750000</td>\n",
       "      <td>490.541748</td>\n",
       "      <td>8633927</td>\n",
       "    </tr>\n",
       "    <tr>\n",
       "      <th>2022-05-05</th>\n",
       "      <td>501.0</td>\n",
       "      <td>503.700012</td>\n",
       "      <td>496.299988</td>\n",
       "      <td>501.149994</td>\n",
       "      <td>499.918671</td>\n",
       "      <td>5434766</td>\n",
       "    </tr>\n",
       "    <tr>\n",
       "      <th>2022-05-06</th>\n",
       "      <td>490.0</td>\n",
       "      <td>490.899994</td>\n",
       "      <td>481.000000</td>\n",
       "      <td>485.100006</td>\n",
       "      <td>483.908112</td>\n",
       "      <td>9220891</td>\n",
       "    </tr>\n",
       "    <tr>\n",
       "      <th>2022-05-09</th>\n",
       "      <td>482.0</td>\n",
       "      <td>489.350006</td>\n",
       "      <td>474.600006</td>\n",
       "      <td>483.149994</td>\n",
       "      <td>481.962891</td>\n",
       "      <td>8337625</td>\n",
       "    </tr>\n",
       "  </tbody>\n",
       "</table>\n",
       "</div>"
      ],
      "text/plain": [
       "             Open        High         Low       Close   Adj Close    Volume\n",
       "Date                                                                       \n",
       "2022-05-02  515.5  519.000000  492.600006  495.000000  493.783783  21911427\n",
       "2022-05-04  500.0  503.850006  489.250000  491.750000  490.541748   8633927\n",
       "2022-05-05  501.0  503.700012  496.299988  501.149994  499.918671   5434766\n",
       "2022-05-06  490.0  490.899994  481.000000  485.100006  483.908112   9220891\n",
       "2022-05-09  482.0  489.350006  474.600006  483.149994  481.962891   8337625"
      ]
     },
     "execution_count": 7,
     "metadata": {},
     "output_type": "execute_result"
    }
   ],
   "source": [
    "tickerData.head()"
   ]
  },
  {
   "cell_type": "code",
   "execution_count": 8,
   "metadata": {},
   "outputs": [],
   "source": [
    "tickerData['Date']=[str(x)[:10] for x in tickerData.index]"
   ]
  },
  {
   "cell_type": "code",
   "execution_count": 9,
   "metadata": {},
   "outputs": [
    {
     "data": {
      "text/html": [
       "<div>\n",
       "<style scoped>\n",
       "    .dataframe tbody tr th:only-of-type {\n",
       "        vertical-align: middle;\n",
       "    }\n",
       "\n",
       "    .dataframe tbody tr th {\n",
       "        vertical-align: top;\n",
       "    }\n",
       "\n",
       "    .dataframe thead th {\n",
       "        text-align: right;\n",
       "    }\n",
       "</style>\n",
       "<table border=\"1\" class=\"dataframe\">\n",
       "  <thead>\n",
       "    <tr style=\"text-align: right;\">\n",
       "      <th></th>\n",
       "      <th>Open</th>\n",
       "      <th>High</th>\n",
       "      <th>Low</th>\n",
       "      <th>Close</th>\n",
       "      <th>Adj Close</th>\n",
       "      <th>Volume</th>\n",
       "      <th>Date</th>\n",
       "    </tr>\n",
       "    <tr>\n",
       "      <th>Date</th>\n",
       "      <th></th>\n",
       "      <th></th>\n",
       "      <th></th>\n",
       "      <th></th>\n",
       "      <th></th>\n",
       "      <th></th>\n",
       "      <th></th>\n",
       "    </tr>\n",
       "  </thead>\n",
       "  <tbody>\n",
       "    <tr>\n",
       "      <th>2022-05-02</th>\n",
       "      <td>515.5</td>\n",
       "      <td>519.000000</td>\n",
       "      <td>492.600006</td>\n",
       "      <td>495.000000</td>\n",
       "      <td>493.783783</td>\n",
       "      <td>21911427</td>\n",
       "      <td>2022-05-02</td>\n",
       "    </tr>\n",
       "    <tr>\n",
       "      <th>2022-05-04</th>\n",
       "      <td>500.0</td>\n",
       "      <td>503.850006</td>\n",
       "      <td>489.250000</td>\n",
       "      <td>491.750000</td>\n",
       "      <td>490.541748</td>\n",
       "      <td>8633927</td>\n",
       "      <td>2022-05-04</td>\n",
       "    </tr>\n",
       "    <tr>\n",
       "      <th>2022-05-05</th>\n",
       "      <td>501.0</td>\n",
       "      <td>503.700012</td>\n",
       "      <td>496.299988</td>\n",
       "      <td>501.149994</td>\n",
       "      <td>499.918671</td>\n",
       "      <td>5434766</td>\n",
       "      <td>2022-05-05</td>\n",
       "    </tr>\n",
       "    <tr>\n",
       "      <th>2022-05-06</th>\n",
       "      <td>490.0</td>\n",
       "      <td>490.899994</td>\n",
       "      <td>481.000000</td>\n",
       "      <td>485.100006</td>\n",
       "      <td>483.908112</td>\n",
       "      <td>9220891</td>\n",
       "      <td>2022-05-06</td>\n",
       "    </tr>\n",
       "    <tr>\n",
       "      <th>2022-05-09</th>\n",
       "      <td>482.0</td>\n",
       "      <td>489.350006</td>\n",
       "      <td>474.600006</td>\n",
       "      <td>483.149994</td>\n",
       "      <td>481.962891</td>\n",
       "      <td>8337625</td>\n",
       "      <td>2022-05-09</td>\n",
       "    </tr>\n",
       "  </tbody>\n",
       "</table>\n",
       "</div>"
      ],
      "text/plain": [
       "             Open        High         Low       Close   Adj Close    Volume   \n",
       "Date                                                                          \n",
       "2022-05-02  515.5  519.000000  492.600006  495.000000  493.783783  21911427  \\\n",
       "2022-05-04  500.0  503.850006  489.250000  491.750000  490.541748   8633927   \n",
       "2022-05-05  501.0  503.700012  496.299988  501.149994  499.918671   5434766   \n",
       "2022-05-06  490.0  490.899994  481.000000  485.100006  483.908112   9220891   \n",
       "2022-05-09  482.0  489.350006  474.600006  483.149994  481.962891   8337625   \n",
       "\n",
       "                  Date  \n",
       "Date                    \n",
       "2022-05-02  2022-05-02  \n",
       "2022-05-04  2022-05-04  \n",
       "2022-05-05  2022-05-05  \n",
       "2022-05-06  2022-05-06  \n",
       "2022-05-09  2022-05-09  "
      ]
     },
     "execution_count": 9,
     "metadata": {},
     "output_type": "execute_result"
    }
   ],
   "source": [
    "tickerData.head()"
   ]
  },
  {
   "cell_type": "code",
   "execution_count": 10,
   "metadata": {},
   "outputs": [
    {
     "name": "stdout",
     "output_type": "stream",
     "text": [
      "Length of ticker data:  247\n"
     ]
    }
   ],
   "source": [
    "tickerData = tickerData['Close']\n",
    "print(\"Length of ticker data: \", len(tickerData.index))"
   ]
  },
  {
   "cell_type": "code",
   "execution_count": 11,
   "metadata": {},
   "outputs": [],
   "source": [
    "path = f\"../data/{TICKER}.csv\"\n",
    "tickerData.to_csv(path, index=True)"
   ]
  },
  {
   "cell_type": "code",
   "execution_count": 12,
   "metadata": {},
   "outputs": [],
   "source": [
    "tags={\n",
    "    'Length':   len(tickerData),\n",
    "    'Start':    str(tickerData.index[0].date()),\n",
    "    'End':      str(tickerData.index[-1].date()),\n",
    "    'Median':   np.round(tickerData.median(), 2),\n",
    "    'SD':       np.round(tickerData.std(), 2)\n",
    "}"
   ]
  },
  {
   "cell_type": "code",
   "execution_count": 13,
   "metadata": {},
   "outputs": [
    {
     "data": {
      "text/plain": [
       "{'Length': 247,\n",
       " 'Start': '2022-05-02',\n",
       " 'End': '2023-04-28',\n",
       " 'Median': 403.2,\n",
       " 'SD': 29.79}"
      ]
     },
     "execution_count": 13,
     "metadata": {},
     "output_type": "execute_result"
    }
   ],
   "source": [
    "tags"
   ]
  },
  {
   "cell_type": "code",
   "execution_count": 14,
   "metadata": {},
   "outputs": [
    {
     "data": {
      "text/plain": [
       "'WIPRO'"
      ]
     },
     "execution_count": 14,
     "metadata": {},
     "output_type": "execute_result"
    }
   ],
   "source": [
    "name=TICKER[:TICKER.index('.')]\n",
    "name"
   ]
  },
  {
   "cell_type": "code",
   "execution_count": 15,
   "metadata": {},
   "outputs": [],
   "source": [
    "version=re.sub('-', '', str(datetime.today().date()))\n",
    "description=f\"Stock data for {TICKER} during {tags['Start']}:{tags['End']} in 1d interval.\"\n",
    "path=path\n",
    "tags=tags\n",
    "\n",
    "# Write to yaml file\n",
    "\n",
    "with open(\"../jobs/data_upload.yml\", \"w\") as f:\n",
    "    f.write(\n",
    "        f\"\"\"$schema: https://azuremlschemas.azureedge.net/latest/data.schema.json\n",
    "        \\ntype: uri_file\\nname: '{name}'\\ndescription: {description}\\npath: '{path}'\\ntags: {tags}\\nversion: {version}\"\"\")"
   ]
  }
 ],
 "metadata": {
  "kernelspec": {
   "display_name": "ak-mlops-az-gh-env",
   "language": "python",
   "name": "python3"
  },
  "language_info": {
   "codemirror_mode": {
    "name": "ipython",
    "version": 3
   },
   "file_extension": ".py",
   "mimetype": "text/x-python",
   "name": "python",
   "nbconvert_exporter": "python",
   "pygments_lexer": "ipython3",
   "version": "3.9.16"
  },
  "orig_nbformat": 4
 },
 "nbformat": 4,
 "nbformat_minor": 2
}
